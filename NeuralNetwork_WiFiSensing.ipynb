{
  "nbformat": 4,
  "nbformat_minor": 0,
  "metadata": {
    "colab": {
      "provenance": [],
      "include_colab_link": true
    },
    "kernelspec": {
      "name": "python3",
      "display_name": "Python 3"
    },
    "language_info": {
      "name": "python"
    }
  },
  "cells": [
    {
      "cell_type": "markdown",
      "metadata": {
        "id": "view-in-github",
        "colab_type": "text"
      },
      "source": [
        "<a href=\"https://colab.research.google.com/github/AbdulellahMoj/AI-Lab/blob/main/NeuralNetwork_WiFiSensing.ipynb\" target=\"_parent\"><img src=\"https://colab.research.google.com/assets/colab-badge.svg\" alt=\"Open In Colab\"/></a>"
      ]
    },
    {
      "cell_type": "markdown",
      "source": [
        "# Human Activity Recognition Using WiFi Signals\n",
        "\n",
        "## Overview\n",
        "Human Activity Recognition (HAR) using WiFi signals leverages the unique properties of wireless channel variations to detect different activities.\n",
        "\n",
        "## Data Format\n",
        "- **WiFi signal data** is similar to image data in structure, represented in the shape `(channels, height, width)`, but with a different interpretation:\n",
        "  - `channels` → **channel**\n",
        "  - `height` → **Time Steps**\n",
        "  - `width` → **Antenna Pairs (transmitter-receiver combinations)**\n",
        "- **Labels** represent a predefined set of classes, as is typical in classification tasks."
      ],
      "metadata": {
        "id": "0NnOoFtyHilj"
      }
    },
    {
      "cell_type": "markdown",
      "source": [
        "# Reading Data"
      ],
      "metadata": {
        "id": "1GqPqJNJIWNg"
      }
    },
    {
      "cell_type": "code",
      "source": [
        "import kagglehub\n",
        "path = kagglehub.dataset_download(\"alihabibullah/question-2-data\")\n",
        "\n",
        "print(\"Path to dataset files:\", path)"
      ],
      "metadata": {
        "colab": {
          "base_uri": "https://localhost:8080/"
        },
        "id": "HnmdeTv2xPQ2",
        "outputId": "f04fb749-1a05-4fab-fc58-8273ea51c6e4"
      },
      "execution_count": 1,
      "outputs": [
        {
          "output_type": "stream",
          "name": "stdout",
          "text": [
            "Downloading from https://www.kaggle.com/api/v1/datasets/download/alihabibullah/question-2-data?dataset_version_number=1...\n"
          ]
        },
        {
          "output_type": "stream",
          "name": "stderr",
          "text": [
            "100%|██████████| 204M/204M [00:03<00:00, 62.2MB/s]"
          ]
        },
        {
          "output_type": "stream",
          "name": "stdout",
          "text": [
            "Extracting files...\n"
          ]
        },
        {
          "output_type": "stream",
          "name": "stderr",
          "text": [
            "\n"
          ]
        },
        {
          "output_type": "stream",
          "name": "stdout",
          "text": [
            "Path to dataset files: /root/.cache/kagglehub/datasets/alihabibullah/question-2-data/versions/1\n"
          ]
        }
      ]
    },
    {
      "cell_type": "code",
      "source": [
        "import os\n",
        "os.listdir(path)"
      ],
      "metadata": {
        "colab": {
          "base_uri": "https://localhost:8080/"
        },
        "id": "W8hne08gxqjN",
        "outputId": "a511aeea-0b3a-4b7a-ca05-02119b78567e"
      },
      "execution_count": 2,
      "outputs": [
        {
          "output_type": "execute_result",
          "data": {
            "text/plain": [
              "['WiFiSensingDataset.pt']"
            ]
          },
          "metadata": {},
          "execution_count": 2
        }
      ]
    },
    {
      "cell_type": "markdown",
      "source": [],
      "metadata": {
        "id": "oEZvoIOGxqWc"
      }
    },
    {
      "cell_type": "code",
      "execution_count": 3,
      "metadata": {
        "colab": {
          "base_uri": "https://localhost:8080/"
        },
        "id": "3DwIkG1iHVPg",
        "outputId": "ff97aba6-85b9-4e09-893e-2a307049ccb0"
      },
      "outputs": [
        {
          "output_type": "stream",
          "name": "stderr",
          "text": [
            "<ipython-input-3-0656954f04d1>:7: FutureWarning: You are using `torch.load` with `weights_only=False` (the current default value), which uses the default pickle module implicitly. It is possible to construct malicious pickle data which will execute arbitrary code during unpickling (See https://github.com/pytorch/pytorch/blob/main/SECURITY.md#untrusted-models for more details). In a future release, the default value for `weights_only` will be flipped to `True`. This limits the functions that could be executed during unpickling. Arbitrary objects will no longer be allowed to be loaded via this mode unless they are explicitly allowlisted by the user via `torch.serialization.add_safe_globals`. We recommend you start setting `weights_only=True` for any use case where you don't have full control of the loaded file. Please open an issue on GitHub for any issues related to this experimental feature.\n",
            "  data = torch.load(f\"{path}/WiFiSensingDataset.pt\")\n"
          ]
        }
      ],
      "source": [
        "import torch\n",
        "import torch.nn as nn\n",
        "from torch.utils.data import DataLoader, random_split, TensorDataset\n",
        "from torch.optim import Adam\n",
        "\n",
        "# Load the .pt file\n",
        "data = torch.load(f\"{path}/WiFiSensingDataset.pt\")"
      ]
    },
    {
      "cell_type": "code",
      "source": [],
      "metadata": {
        "id": "_z7GTT7pUFJc"
      },
      "execution_count": 3,
      "outputs": []
    },
    {
      "cell_type": "code",
      "source": [
        "\n",
        "# Convert labels to LongTensor\n",
        "data['y_train'] = data['y_train'].type(torch.LongTensor)\n",
        "data['y_test'] = data['y_test'].type(torch.LongTensor)\n",
        "\n",
        "# Concatenate train and test data\n",
        "inputs = torch.cat((data['X_train'], data['X_test']))\n",
        "targets = torch.cat((data['y_train'], data['y_test']))\n",
        "\n",
        "# Create TensorDataset\n",
        "mydataset = TensorDataset(inputs, targets)\n",
        "\n",
        "# Split into train and test datasets\n",
        "train_size = int(0.8 * len(mydataset))\n",
        "test_size = len(mydataset) - train_size\n",
        "train_dataset, test_dataset = torch.utils.data.random_split(mydataset, [train_size, test_size])\n",
        "\n",
        "# DataLoader for batching\n",
        "train_loader = DataLoader(train_dataset, batch_size=64, shuffle=True)\n",
        "test_loader = DataLoader(test_dataset, batch_size=64, shuffle=False)"
      ],
      "metadata": {
        "id": "5zRa_cooQRs_"
      },
      "execution_count": 4,
      "outputs": []
    },
    {
      "cell_type": "markdown",
      "source": [
        "# Task 1: Analyze the Dataset ( Stored in `data`)\n",
        "\n",
        "1. **Determine the number of unique labels** in the dataset.  \n",
        "\n",
        "2. **Determine the shape of the input data** (number of samples and features).  \n",
        "\n",
        "3. **Find the maximum value** in the dataset.  \n",
        "\n",
        "4. **Find the minimum value** in the dataset.  "
      ],
      "metadata": {
        "id": "8vkoyStvJBLl"
      }
    },
    {
      "cell_type": "code",
      "source": [
        "# -Determine the shape of the input data (number of samples and features)\n",
        "shape_input = inputs[0].shape\n",
        "print(f\"Shape inputs: {shape_input}\")\n",
        "\n",
        "# -Determine the number of unique labels\n",
        "unique_labels = torch.unique(targets)\n",
        "num_unique_labels = len(unique_labels)\n",
        "print(f\"Num unique labels: {num_unique_labels}\")\n",
        "\n",
        "# -Find the maximum value in the dataset\n",
        "max_value = torch.max(inputs).item()\n",
        "max_target_value = torch.max(targets).item()\n",
        "print(f\"Maximum inputs: {max_value}\")\n",
        "print(f\"Maximum targets: {max_target_value}\")\n",
        "\n",
        "# -Find the minimum value in the dataset\n",
        "min_value = torch.min(inputs).item()\n",
        "min_target_value = torch.min(targets).item()\n",
        "print(f\"Minimum inputs: {min_value}\")\n",
        "print(f\"Minimum targets: {min_target_value}\")"
      ],
      "metadata": {
        "id": "7lPNBr_UK1nb",
        "colab": {
          "base_uri": "https://localhost:8080/"
        },
        "outputId": "266aff30-4846-484d-958d-d074c8e82cb5"
      },
      "execution_count": 5,
      "outputs": [
        {
          "output_type": "stream",
          "name": "stdout",
          "text": [
            "Shape inputs: torch.Size([1, 250, 90])\n",
            "Num unique labels: 7\n",
            "Maximum inputs: 1.0\n",
            "Maximum targets: 6\n",
            "Minimum inputs: 0.0\n",
            "Minimum targets: 0\n"
          ]
        }
      ]
    },
    {
      "cell_type": "markdown",
      "source": [
        "# Task 2: Build and Evaluate a Neural Network\n",
        "\n",
        "1. **Design a Neural Network (Maximum 5 Layers)**  \n",
        "   Build a compact neural network with no more than 5 layers. Clearly specify the type of each layer (e.g., Dense, Conv2D) and any activation functions used.\n",
        "\n",
        "2. **Evaluate Your Model**  \n",
        "   Train your network on the provided dataset and report the evaluation metrics (e.g., accuracy, loss). Discuss the performance of your model and any challenges faced during training.\n"
      ],
      "metadata": {
        "id": "zbbW9TqJJI84"
      }
    },
    {
      "cell_type": "code",
      "source": [
        "import torch.nn as nn\n",
        "import torch.optim as optim\n",
        "\n",
        "class NN4Layer(nn.Module):\n",
        "  def __init__(self, num_inp):\n",
        "\n",
        "    super(NN4Layer, self).__init__()\n",
        "\n",
        "    self.layer_1 = nn.Linear(num_inp, 512)\n",
        "    self.layer_2 = nn.Linear(512, 256)\n",
        "    self.layer_3 = nn.Linear(256, 128)\n",
        "    self.layer_4 = nn.Linear(128, 10)\n",
        "\n",
        "    self.hidden_activation = nn.ReLU()\n",
        "\n",
        "  def forward(self, x):\n",
        "\n",
        "    z1 = self.layer_1(x)\n",
        "    a1 = self.hidden_activation(z1)\n",
        "\n",
        "    z2 = self.layer_2(a1)\n",
        "    a2 = self.hidden_activation(z2)\n",
        "\n",
        "    z3 = self.layer_3(a2)\n",
        "    a3 = self.hidden_activation(z3)\n",
        "\n",
        "    z4 = self.layer_4(a3)\n",
        "\n",
        "    return z4"
      ],
      "metadata": {
        "id": "xUNlzzV3Pq-t"
      },
      "execution_count": 6,
      "outputs": []
    },
    {
      "cell_type": "code",
      "source": [
        "# Training configuration\n",
        "num_epochs = 20\n",
        "lr = 0.001\n",
        "device = 'cuda' if torch.cuda.is_available() else 'cpu'\n",
        "\n",
        "\n",
        "train_losses = []\n",
        "val_losses = []\n",
        "\n",
        "# Initialize model\n",
        "model = NN4Layer(1*250*90)\n",
        "optimizer = torch.optim.Adam(model.parameters(), lr=lr)\n",
        "criterion = nn.CrossEntropyLoss()  # multi-class\n",
        "\n",
        "model.to(device)\n",
        "\n",
        "print(f'Using device {device}')"
      ],
      "metadata": {
        "id": "zzIypBtyRlDP",
        "colab": {
          "base_uri": "https://localhost:8080/"
        },
        "outputId": "f65b924f-a961-4046-e942-ac6c58045fbe"
      },
      "execution_count": 7,
      "outputs": [
        {
          "output_type": "stream",
          "name": "stdout",
          "text": [
            "Using device cpu\n"
          ]
        }
      ]
    },
    {
      "cell_type": "code",
      "source": [
        "\n",
        "for epoch in range(num_epochs):\n",
        "  total_loss = 0\n",
        "  for features,labels in train_loader:\n",
        "    optimizer.zero_grad()\n",
        "    # ReShape\n",
        "    features = features.reshape(-1,250*90).to(device)\n",
        "    labels = labels.to(device)\n",
        "    # forward: prediction\n",
        "    prediction = model(features)\n",
        "    loss = criterion(prediction, labels)\n",
        "    total_loss += loss\n",
        "  # backward\n",
        "    loss.backward()\n",
        "  # update weights and take a step\n",
        "    optimizer.step()\n",
        "\n",
        "\n",
        "  print(f'Epoch {epoch+ 1} and the loss {total_loss/len(train_loader)}')\n"
      ],
      "metadata": {
        "id": "MAMgZ-FXJIL9",
        "colab": {
          "base_uri": "https://localhost:8080/"
        },
        "outputId": "dd2c12bc-c189-4f8b-cb80-9265eb2c9797"
      },
      "execution_count": 8,
      "outputs": [
        {
          "output_type": "stream",
          "name": "stdout",
          "text": [
            "Epoch 1 and the loss 2.071918249130249\n",
            "Epoch 2 and the loss 1.789273738861084\n",
            "Epoch 3 and the loss 1.6970865726470947\n",
            "Epoch 4 and the loss 1.6386950016021729\n",
            "Epoch 5 and the loss 1.5682350397109985\n",
            "Epoch 6 and the loss 1.5157854557037354\n",
            "Epoch 7 and the loss 1.5104988813400269\n",
            "Epoch 8 and the loss 1.4102182388305664\n",
            "Epoch 9 and the loss 1.3665038347244263\n",
            "Epoch 10 and the loss 1.3251148462295532\n",
            "Epoch 11 and the loss 1.2096843719482422\n",
            "Epoch 12 and the loss 1.1427689790725708\n",
            "Epoch 13 and the loss 1.1617234945297241\n",
            "Epoch 14 and the loss 1.0670260190963745\n",
            "Epoch 15 and the loss 1.0519319772720337\n",
            "Epoch 16 and the loss 1.0472638607025146\n",
            "Epoch 17 and the loss 1.1109055280685425\n",
            "Epoch 18 and the loss 1.0890538692474365\n",
            "Epoch 19 and the loss 1.1006110906600952\n",
            "Epoch 20 and the loss 0.9877585172653198\n"
          ]
        }
      ]
    },
    {
      "cell_type": "markdown",
      "source": [
        "to test"
      ],
      "metadata": {
        "id": "TsixL-b9wdDL"
      }
    },
    {
      "cell_type": "code",
      "source": [
        "model.eval()  # Set the model to evaluation mode\n",
        "y_true, y_pred = [], []\n",
        "\n",
        "# Testing loop\n",
        "with torch.no_grad():\n",
        "    for features, labels in test_loader:\n",
        "        features = features.reshape(-1, 250*90).to(device)\n",
        "        labels = labels.to(device)\n",
        "\n",
        "        # Forward pass\n",
        "        prediction = model(features)\n",
        "\n",
        "        # Get the predicted labels (class with max probability)\n",
        "        _, predicted_labels = torch.max(prediction, 1)\n",
        "\n",
        "        # Collect true and predicted labels\n",
        "        y_true.extend(labels.cpu().numpy())\n",
        "        y_pred.extend(predicted_labels.cpu().numpy())\n",
        "\n",
        "# Compute accuracy\n",
        "accuracy = accuracy_score(y_true, y_pred)\n",
        "print(f'Accuracy on test set: {accuracy * 100:.2f}%')\n"
      ],
      "metadata": {
        "id": "x0CDeVFAT6z8",
        "colab": {
          "base_uri": "https://localhost:8080/",
          "height": 196
        },
        "outputId": "73a63877-f4cc-472f-ea88-4a906114cc22"
      },
      "execution_count": 9,
      "outputs": [
        {
          "output_type": "error",
          "ename": "NameError",
          "evalue": "name 'accuracy_score' is not defined",
          "traceback": [
            "\u001b[0;31m---------------------------------------------------------------------------\u001b[0m",
            "\u001b[0;31mNameError\u001b[0m                                 Traceback (most recent call last)",
            "\u001b[0;32m<ipython-input-9-475d4f0611b4>\u001b[0m in \u001b[0;36m<cell line: 21>\u001b[0;34m()\u001b[0m\n\u001b[1;32m     19\u001b[0m \u001b[0;34m\u001b[0m\u001b[0m\n\u001b[1;32m     20\u001b[0m \u001b[0;31m# Compute accuracy\u001b[0m\u001b[0;34m\u001b[0m\u001b[0;34m\u001b[0m\u001b[0m\n\u001b[0;32m---> 21\u001b[0;31m \u001b[0maccuracy\u001b[0m \u001b[0;34m=\u001b[0m \u001b[0maccuracy_score\u001b[0m\u001b[0;34m(\u001b[0m\u001b[0my_true\u001b[0m\u001b[0;34m,\u001b[0m \u001b[0my_pred\u001b[0m\u001b[0;34m)\u001b[0m\u001b[0;34m\u001b[0m\u001b[0;34m\u001b[0m\u001b[0m\n\u001b[0m\u001b[1;32m     22\u001b[0m \u001b[0mprint\u001b[0m\u001b[0;34m(\u001b[0m\u001b[0;34mf'Accuracy on test set: {accuracy * 100:.2f}%'\u001b[0m\u001b[0;34m)\u001b[0m\u001b[0;34m\u001b[0m\u001b[0;34m\u001b[0m\u001b[0m\n",
            "\u001b[0;31mNameError\u001b[0m: name 'accuracy_score' is not defined"
          ]
        }
      ]
    },
    {
      "cell_type": "code",
      "source": [],
      "metadata": {
        "id": "5PHWz6VtLLT1"
      },
      "execution_count": null,
      "outputs": []
    },
    {
      "cell_type": "markdown",
      "source": [
        "Good luck in the exam x)\n",
        "\n",
        "Prepared by: Ahmed Y. Radwan\n"
      ],
      "metadata": {
        "id": "6pqoK28DLPB4"
      }
    },
    {
      "cell_type": "code",
      "source": [],
      "metadata": {
        "id": "5er_pdi8w5cV"
      },
      "execution_count": null,
      "outputs": []
    }
  ]
}